{
 "cells": [
  {
   "attachments": {
    "image.png": {
     "image/png": "[encoded data removed]"
    }
   },
   "cell_type": "markdown",
   "id": "1dd280bc",
   "metadata": {},
   "source": [
    "![image.png](attachment:image.png)"
   ]
  },
  {
   "cell_type": "code",
   "execution_count": 1,
   "id": "6a1ed9ad",
   "metadata": {},
   "outputs": [
    {
     "name": "stdout",
     "output_type": "stream",
     "text": [
      "Requirement already satisfied: evalml in c:\\users\\win10\\anaconda3\\envs\\test\\lib\\site-packages (0.22.0)\n",
      "Requirement already satisfied: graphviz>=0.13 in c:\\users\\win10\\anaconda3\\envs\\test\\lib\\site-packages (from evalml) (0.16)\n",
      "Requirement already satisfied: pyzmq<22.0.0 in c:\\users\\win10\\anaconda3\\envs\\test\\lib\\site-packages (from evalml) (21.0.2)\n",
      "Requirement already satisfied: featuretools>=0.20.0 in c:\\users\\win10\\anaconda3\\envs\\test\\lib\\site-packages (from evalml) (0.23.3)\n",
      "Requirement already satisfied: lightgbm<3.1.0,>=2.3.1 in c:\\users\\win10\\anaconda3\\envs\\test\\lib\\site-packages (from evalml) (3.0.0)\n",
      "Requirement already satisfied: matplotlib>=3.3.3 in c:\\users\\win10\\anaconda3\\envs\\test\\lib\\site-packages (from evalml) (3.4.1)\n",
      "Requirement already satisfied: catboost>=0.20 in c:\\users\\win10\\anaconda3\\envs\\test\\lib\\site-packages (from evalml) (0.25.1)\n",
      "Requirement already satisfied: kaleido>=0.1.0 in c:\\users\\win10\\anaconda3\\envs\\test\\lib\\site-packages (from evalml) (0.2.1)\n",
      "Requirement already satisfied: click>=7.0.0 in c:\\users\\win10\\anaconda3\\envs\\test\\lib\\site-packages (from evalml) (7.1.2)\n",
      "Requirement already satisfied: numpy>=1.19.1 in c:\\users\\win10\\anaconda3\\envs\\test\\lib\\site-packages (from evalml) (1.20.2)\n",
      "Requirement already satisfied: scipy>=1.2.1 in c:\\users\\win10\\anaconda3\\envs\\test\\lib\\site-packages (from evalml) (1.4.1)\n",
      "Requirement already satisfied: shap>=0.35.0 in c:\\users\\win10\\anaconda3\\envs\\test\\lib\\site-packages (from evalml) (0.39.0)\n",
      "Requirement already satisfied: ipywidgets>=7.5 in c:\\users\\win10\\anaconda3\\envs\\test\\lib\\site-packages (from evalml) (7.6.3)\n",
      "Requirement already satisfied: networkx>=2.5 in c:\\users\\win10\\anaconda3\\envs\\test\\lib\\site-packages (from evalml) (2.5.1)\n",
      "Requirement already satisfied: seaborn>=0.11.1 in c:\\users\\win10\\anaconda3\\envs\\test\\lib\\site-packages (from evalml) (0.11.1)\n",
      "Requirement already satisfied: colorama in c:\\users\\win10\\anaconda3\\envs\\test\\lib\\site-packages (from evalml) (0.4.4)\n",
      "Requirement already satisfied: pandas>=1.1.0 in c:\\users\\win10\\anaconda3\\envs\\test\\lib\\site-packages (from evalml) (1.2.4)\n",
      "Requirement already satisfied: sktime>=0.5.3 in c:\\users\\win10\\anaconda3\\envs\\test\\lib\\site-packages (from evalml) (0.5.3)\n",
      "Requirement already satisfied: plotly>=4.14.0 in c:\\users\\win10\\anaconda3\\envs\\test\\lib\\site-packages (from evalml) (4.14.3)\n",
      "Requirement already satisfied: category-encoders>=2.0.0 in c:\\users\\win10\\anaconda3\\envs\\test\\lib\\site-packages (from evalml) (2.2.2)\n",
      "Requirement already satisfied: imbalanced-learn>=0.7.0 in c:\\users\\win10\\anaconda3\\envs\\test\\lib\\site-packages (from evalml) (0.8.0)\n",
      "Requirement already satisfied: statsmodels>=0.12.2 in c:\\users\\win10\\anaconda3\\envs\\test\\lib\\site-packages (from evalml) (0.12.2)\n",
      "Requirement already satisfied: nlp-primitives>=1.1.0 in c:\\users\\win10\\anaconda3\\envs\\test\\lib\\site-packages (from evalml) (1.1.0)\n",
      "Requirement already satisfied: scikit-optimize>=0.8.1 in c:\\users\\win10\\anaconda3\\envs\\test\\lib\\site-packages (from evalml) (0.8.1)\n",
      "Requirement already satisfied: cloudpickle>=0.2.2 in c:\\users\\win10\\anaconda3\\envs\\test\\lib\\site-packages (from evalml) (1.6.0)\n",
      "Requirement already satisfied: psutil>=5.6.3 in c:\\users\\win10\\anaconda3\\envs\\test\\lib\\site-packages (from evalml) (5.8.0)\n",
      "Requirement already satisfied: requirements-parser>=0.2.0 in c:\\users\\win10\\anaconda3\\envs\\test\\lib\\site-packages (from evalml) (0.2.0)\n",
      "Requirement already satisfied: xgboost<1.3.0,>=0.82 in c:\\users\\win10\\anaconda3\\envs\\test\\lib\\site-packages (from evalml) (1.2.1)\n",
      "Requirement already satisfied: woodwork==0.0.11 in c:\\users\\win10\\anaconda3\\envs\\test\\lib\\site-packages (from evalml) (0.0.11)\n",
      "Requirement already satisfied: texttable>=1.6.2 in c:\\users\\win10\\anaconda3\\envs\\test\\lib\\site-packages (from evalml) (1.6.3)\n",
      "Requirement already satisfied: scikit-learn>=0.23.1 in c:\\users\\win10\\anaconda3\\envs\\test\\lib\\site-packages (from evalml) (0.24.1)\n",
      "Requirement already satisfied: six in c:\\users\\win10\\anaconda3\\envs\\test\\lib\\site-packages (from catboost>=0.20->evalml) (1.15.0)\n",
      "Requirement already satisfied: patsy>=0.5.1 in c:\\users\\win10\\anaconda3\\envs\\test\\lib\\site-packages (from category-encoders>=2.0.0->evalml) (0.5.1)\n",
      "Requirement already satisfied: distributed>=2.12.0 in c:\\users\\win10\\anaconda3\\envs\\test\\lib\\site-packages (from featuretools>=0.20.0->evalml) (2021.4.0)\n",
      "Requirement already satisfied: tqdm>=4.32.0 in c:\\users\\win10\\anaconda3\\envs\\test\\lib\\site-packages (from featuretools>=0.20.0->evalml) (4.60.0)\n",
      "Requirement already satisfied: pyyaml>=3.12 in c:\\users\\win10\\anaconda3\\envs\\test\\lib\\site-packages (from featuretools>=0.20.0->evalml) (5.4.1)\n",
      "Requirement already satisfied: dask[dataframe]>=2.12.0 in c:\\users\\win10\\anaconda3\\envs\\test\\lib\\site-packages (from featuretools>=0.20.0->evalml) (2021.4.0)\n",
      "Requirement already satisfied: fsspec>=0.6.0 in c:\\users\\win10\\anaconda3\\envs\\test\\lib\\site-packages (from dask[dataframe]>=2.12.0->featuretools>=0.20.0->evalml) (0.9.0)\n",
      "Requirement already satisfied: partd>=0.3.10 in c:\\users\\win10\\anaconda3\\envs\\test\\lib\\site-packages (from dask[dataframe]>=2.12.0->featuretools>=0.20.0->evalml) (1.2.0)\n",
      "Requirement already satisfied: toolz>=0.8.2 in c:\\users\\win10\\anaconda3\\envs\\test\\lib\\site-packages (from dask[dataframe]>=2.12.0->featuretools>=0.20.0->evalml) (0.11.1)\n",
      "Requirement already satisfied: setuptools in c:\\users\\win10\\anaconda3\\envs\\test\\lib\\site-packages (from distributed>=2.12.0->featuretools>=0.20.0->evalml) (52.0.0.post20210125)\n",
      "Requirement already satisfied: sortedcontainers!=2.0.0,!=2.0.1 in c:\\users\\win10\\anaconda3\\envs\\test\\lib\\site-packages (from distributed>=2.12.0->featuretools>=0.20.0->evalml) (2.3.0)\n",
      "Requirement already satisfied: msgpack>=0.6.0 in c:\\users\\win10\\anaconda3\\envs\\test\\lib\\site-packages (from distributed>=2.12.0->featuretools>=0.20.0->evalml) (1.0.2)\n",
      "Requirement already satisfied: tornado>=5 in c:\\users\\win10\\anaconda3\\envs\\test\\lib\\site-packages (from distributed>=2.12.0->featuretools>=0.20.0->evalml) (6.1)\n",
      "Requirement already satisfied: tblib>=1.6.0 in c:\\users\\win10\\anaconda3\\envs\\test\\lib\\site-packages (from distributed>=2.12.0->featuretools>=0.20.0->evalml) (1.7.0)\n",
      "Requirement already satisfied: zict>=0.1.3 in c:\\users\\win10\\anaconda3\\envs\\test\\lib\\site-packages (from distributed>=2.12.0->featuretools>=0.20.0->evalml) (2.0.0)\n",
      "Requirement already satisfied: importlib-metadata in c:\\users\\win10\\anaconda3\\envs\\test\\lib\\site-packages (from fsspec>=0.6.0->dask[dataframe]>=2.12.0->featuretools>=0.20.0->evalml) (3.10.1)\n",
      "Requirement already satisfied: joblib>=0.11 in c:\\users\\win10\\anaconda3\\envs\\test\\lib\\site-packages (from imbalanced-learn>=0.7.0->evalml) (1.0.1)\n",
      "Requirement already satisfied: jupyterlab-widgets>=1.0.0 in c:\\users\\win10\\anaconda3\\envs\\test\\lib\\site-packages (from ipywidgets>=7.5->evalml) (1.0.0)\n",
      "Requirement already satisfied: ipython>=4.0.0 in c:\\users\\win10\\anaconda3\\envs\\test\\lib\\site-packages (from ipywidgets>=7.5->evalml) (7.22.0)\n",
      "Requirement already satisfied: nbformat>=4.2.0 in c:\\users\\win10\\anaconda3\\envs\\test\\lib\\site-packages (from ipywidgets>=7.5->evalml) (5.1.3)\n",
      "Requirement already satisfied: ipykernel>=4.5.1 in c:\\users\\win10\\anaconda3\\envs\\test\\lib\\site-packages (from ipywidgets>=7.5->evalml) (5.5.3)\n",
      "Requirement already satisfied: widgetsnbextension~=3.5.0 in c:\\users\\win10\\anaconda3\\envs\\test\\lib\\site-packages (from ipywidgets>=7.5->evalml) (3.5.1)\n",
      "Requirement already satisfied: traitlets>=4.3.1 in c:\\users\\win10\\anaconda3\\envs\\test\\lib\\site-packages (from ipywidgets>=7.5->evalml) (5.0.5)\n",
      "Requirement already satisfied: jupyter-client in c:\\users\\win10\\anaconda3\\envs\\test\\lib\\site-packages (from ipykernel>=4.5.1->ipywidgets>=7.5->evalml) (6.1.12)\n",
      "Requirement already satisfied: decorator in c:\\users\\win10\\anaconda3\\envs\\test\\lib\\site-packages (from ipython>=4.0.0->ipywidgets>=7.5->evalml) (4.4.2)\n",
      "Requirement already satisfied: pygments in c:\\users\\win10\\anaconda3\\envs\\test\\lib\\site-packages (from ipython>=4.0.0->ipywidgets>=7.5->evalml) (2.8.1)\n",
      "Requirement already satisfied: pickleshare in c:\\users\\win10\\anaconda3\\envs\\test\\lib\\site-packages (from ipython>=4.0.0->ipywidgets>=7.5->evalml) (0.7.5)\n",
      "Requirement already satisfied: backcall in c:\\users\\win10\\anaconda3\\envs\\test\\lib\\site-packages (from ipython>=4.0.0->ipywidgets>=7.5->evalml) (0.2.0)\n",
      "Requirement already satisfied: jedi>=0.16 in c:\\users\\win10\\anaconda3\\envs\\test\\lib\\site-packages (from ipython>=4.0.0->ipywidgets>=7.5->evalml) (0.18.0)\n",
      "Requirement already satisfied: prompt-toolkit!=3.0.0,!=3.0.1,<3.1.0,>=2.0.0 in c:\\users\\win10\\anaconda3\\envs\\test\\lib\\site-packages (from ipython>=4.0.0->ipywidgets>=7.5->evalml) (3.0.18)\n",
      "Requirement already satisfied: parso<0.9.0,>=0.8.0 in c:\\users\\win10\\anaconda3\\envs\\test\\lib\\site-packages (from jedi>=0.16->ipython>=4.0.0->ipywidgets>=7.5->evalml) (0.8.2)\n",
      "Requirement already satisfied: pyparsing>=2.2.1 in c:\\users\\win10\\anaconda3\\envs\\test\\lib\\site-packages (from matplotlib>=3.3.3->evalml) (2.4.7)\n",
      "Requirement already satisfied: python-dateutil>=2.7 in c:\\users\\win10\\anaconda3\\envs\\test\\lib\\site-packages (from matplotlib>=3.3.3->evalml) (2.8.1)\n",
      "Requirement already satisfied: cycler>=0.10 in c:\\users\\win10\\anaconda3\\envs\\test\\lib\\site-packages (from matplotlib>=3.3.3->evalml) (0.10.0)\n",
      "Requirement already satisfied: pillow>=6.2.0 in c:\\users\\win10\\anaconda3\\envs\\test\\lib\\site-packages (from matplotlib>=3.3.3->evalml) (8.2.0)\n",
      "Requirement already satisfied: kiwisolver>=1.0.1 in c:\\users\\win10\\anaconda3\\envs\\test\\lib\\site-packages (from matplotlib>=3.3.3->evalml) (1.3.1)\n",
      "Requirement already satisfied: jsonschema!=2.5.0,>=2.4 in c:\\users\\win10\\anaconda3\\envs\\test\\lib\\site-packages (from nbformat>=4.2.0->ipywidgets>=7.5->evalml) (3.2.0)\n",
      "Requirement already satisfied: jupyter-core in c:\\users\\win10\\anaconda3\\envs\\test\\lib\\site-packages (from nbformat>=4.2.0->ipywidgets>=7.5->evalml) (4.7.1)\n",
      "Requirement already satisfied: ipython-genutils in c:\\users\\win10\\anaconda3\\envs\\test\\lib\\site-packages (from nbformat>=4.2.0->ipywidgets>=7.5->evalml) (0.2.0)\n",
      "Requirement already satisfied: pyrsistent>=0.14.0 in c:\\users\\win10\\anaconda3\\envs\\test\\lib\\site-packages (from jsonschema!=2.5.0,>=2.4->nbformat>=4.2.0->ipywidgets>=7.5->evalml) (0.17.3)\n",
      "Requirement already satisfied: attrs>=17.4.0 in c:\\users\\win10\\anaconda3\\envs\\test\\lib\\site-packages (from jsonschema!=2.5.0,>=2.4->nbformat>=4.2.0->ipywidgets>=7.5->evalml) (20.3.0)\n",
      "Requirement already satisfied: nltk>=3.4.5 in c:\\users\\win10\\anaconda3\\envs\\test\\lib\\site-packages (from nlp-primitives>=1.1.0->evalml) (3.6.1)\n",
      "Requirement already satisfied: regex in c:\\users\\win10\\anaconda3\\envs\\test\\lib\\site-packages (from nltk>=3.4.5->nlp-primitives>=1.1.0->evalml) (2021.4.4)\n",
      "Requirement already satisfied: pytz>=2017.3 in c:\\users\\win10\\anaconda3\\envs\\test\\lib\\site-packages (from pandas>=1.1.0->evalml) (2021.1)\n",
      "Requirement already satisfied: locket in c:\\users\\win10\\anaconda3\\envs\\test\\lib\\site-packages (from partd>=0.3.10->dask[dataframe]>=2.12.0->featuretools>=0.20.0->evalml) (0.2.1)\n",
      "Requirement already satisfied: retrying>=1.3.3 in c:\\users\\win10\\anaconda3\\envs\\test\\lib\\site-packages (from plotly>=4.14.0->evalml) (1.3.3)\n",
      "Requirement already satisfied: wcwidth in c:\\users\\win10\\anaconda3\\envs\\test\\lib\\site-packages (from prompt-toolkit!=3.0.0,!=3.0.1,<3.1.0,>=2.0.0->ipython>=4.0.0->ipywidgets>=7.5->evalml) (0.2.5)\n",
      "Requirement already satisfied: threadpoolctl>=2.0.0 in c:\\users\\win10\\anaconda3\\envs\\test\\lib\\site-packages (from scikit-learn>=0.23.1->evalml) (2.1.0)\n",
      "Requirement already satisfied: pyaml>=16.9 in c:\\users\\win10\\anaconda3\\envs\\test\\lib\\site-packages (from scikit-optimize>=0.8.1->evalml) (20.4.0)\n",
      "Requirement already satisfied: numba in c:\\users\\win10\\anaconda3\\envs\\test\\lib\\site-packages (from shap>=0.35.0->evalml) (0.53.1)\n",
      "Requirement already satisfied: slicer==0.0.7 in c:\\users\\win10\\anaconda3\\envs\\test\\lib\\site-packages (from shap>=0.35.0->evalml) (0.0.7)\n",
      "Requirement already satisfied: wheel in c:\\users\\win10\\anaconda3\\envs\\test\\lib\\site-packages (from sktime>=0.5.3->evalml) (0.36.2)\n",
      "Requirement already satisfied: llvmlite<0.37,>=0.36.0rc1 in c:\\users\\win10\\anaconda3\\envs\\test\\lib\\site-packages (from numba->shap>=0.35.0->evalml) (0.36.0)\n",
      "Requirement already satisfied: notebook>=4.4.1 in c:\\users\\win10\\anaconda3\\envs\\test\\lib\\site-packages (from widgetsnbextension~=3.5.0->ipywidgets>=7.5->evalml) (6.3.0)\n",
      "Requirement already satisfied: terminado>=0.8.3 in c:\\users\\win10\\anaconda3\\envs\\test\\lib\\site-packages (from notebook>=4.4.1->widgetsnbextension~=3.5.0->ipywidgets>=7.5->evalml) (0.9.4)\n",
      "Requirement already satisfied: argon2-cffi in c:\\users\\win10\\anaconda3\\envs\\test\\lib\\site-packages (from notebook>=4.4.1->widgetsnbextension~=3.5.0->ipywidgets>=7.5->evalml) (20.1.0)\n",
      "Requirement already satisfied: Send2Trash>=1.5.0 in c:\\users\\win10\\anaconda3\\envs\\test\\lib\\site-packages (from notebook>=4.4.1->widgetsnbextension~=3.5.0->ipywidgets>=7.5->evalml) (1.5.0)\n",
      "Requirement already satisfied: prometheus-client in c:\\users\\win10\\anaconda3\\envs\\test\\lib\\site-packages (from notebook>=4.4.1->widgetsnbextension~=3.5.0->ipywidgets>=7.5->evalml) (0.10.1)\n",
      "Requirement already satisfied: nbconvert in c:\\users\\win10\\anaconda3\\envs\\test\\lib\\site-packages (from notebook>=4.4.1->widgetsnbextension~=3.5.0->ipywidgets>=7.5->evalml) (6.0.7)\n",
      "Requirement already satisfied: jinja2 in c:\\users\\win10\\anaconda3\\envs\\test\\lib\\site-packages (from notebook>=4.4.1->widgetsnbextension~=3.5.0->ipywidgets>=7.5->evalml) (2.11.3)\n",
      "Requirement already satisfied: pywin32>=1.0 in c:\\users\\win10\\anaconda3\\envs\\test\\lib\\site-packages (from jupyter-core->nbformat>=4.2.0->ipywidgets>=7.5->evalml) (300)\n",
      "Requirement already satisfied: pywinpty>=0.5 in c:\\users\\win10\\anaconda3\\envs\\test\\lib\\site-packages (from terminado>=0.8.3->notebook>=4.4.1->widgetsnbextension~=3.5.0->ipywidgets>=7.5->evalml) (0.5.7)\n",
      "Requirement already satisfied: heapdict in c:\\users\\win10\\anaconda3\\envs\\test\\lib\\site-packages (from zict>=0.1.3->distributed>=2.12.0->featuretools>=0.20.0->evalml) (1.0.1)\n",
      "Requirement already satisfied: cffi>=1.0.0 in c:\\users\\win10\\anaconda3\\envs\\test\\lib\\site-packages (from argon2-cffi->notebook>=4.4.1->widgetsnbextension~=3.5.0->ipywidgets>=7.5->evalml) (1.14.5)\n",
      "Requirement already satisfied: pycparser in c:\\users\\win10\\anaconda3\\envs\\test\\lib\\site-packages (from cffi>=1.0.0->argon2-cffi->notebook>=4.4.1->widgetsnbextension~=3.5.0->ipywidgets>=7.5->evalml) (2.20)\n",
      "Requirement already satisfied: zipp>=0.5 in c:\\users\\win10\\anaconda3\\envs\\test\\lib\\site-packages (from importlib-metadata->fsspec>=0.6.0->dask[dataframe]>=2.12.0->featuretools>=0.20.0->evalml) (3.4.1)\n",
      "Requirement already satisfied: typing-extensions>=3.6.4 in c:\\users\\win10\\anaconda3\\envs\\test\\lib\\site-packages (from importlib-metadata->fsspec>=0.6.0->dask[dataframe]>=2.12.0->featuretools>=0.20.0->evalml) (3.7.4.3)\n",
      "Requirement already satisfied: MarkupSafe>=0.23 in c:\\users\\win10\\anaconda3\\envs\\test\\lib\\site-packages (from jinja2->notebook>=4.4.1->widgetsnbextension~=3.5.0->ipywidgets>=7.5->evalml) (1.1.1)\n",
      "Requirement already satisfied: defusedxml in c:\\users\\win10\\anaconda3\\envs\\test\\lib\\site-packages (from nbconvert->notebook>=4.4.1->widgetsnbextension~=3.5.0->ipywidgets>=7.5->evalml) (0.7.1)\n",
      "Requirement already satisfied: bleach in c:\\users\\win10\\anaconda3\\envs\\test\\lib\\site-packages (from nbconvert->notebook>=4.4.1->widgetsnbextension~=3.5.0->ipywidgets>=7.5->evalml) (3.3.0)\n",
      "Requirement already satisfied: pandocfilters>=1.4.1 in c:\\users\\win10\\anaconda3\\envs\\test\\lib\\site-packages (from nbconvert->notebook>=4.4.1->widgetsnbextension~=3.5.0->ipywidgets>=7.5->evalml) (1.4.3)\n",
      "Requirement already satisfied: mistune<2,>=0.8.1 in c:\\users\\win10\\anaconda3\\envs\\test\\lib\\site-packages (from nbconvert->notebook>=4.4.1->widgetsnbextension~=3.5.0->ipywidgets>=7.5->evalml) (0.8.4)\n",
      "Requirement already satisfied: jupyterlab-pygments in c:\\users\\win10\\anaconda3\\envs\\test\\lib\\site-packages (from nbconvert->notebook>=4.4.1->widgetsnbextension~=3.5.0->ipywidgets>=7.5->evalml) (0.1.2)\n",
      "Requirement already satisfied: entrypoints>=0.2.2 in c:\\users\\win10\\anaconda3\\envs\\test\\lib\\site-packages (from nbconvert->notebook>=4.4.1->widgetsnbextension~=3.5.0->ipywidgets>=7.5->evalml) (0.3)\n",
      "Requirement already satisfied: testpath in c:\\users\\win10\\anaconda3\\envs\\test\\lib\\site-packages (from nbconvert->notebook>=4.4.1->widgetsnbextension~=3.5.0->ipywidgets>=7.5->evalml) (0.4.4)\n",
      "Requirement already satisfied: nbclient<0.6.0,>=0.5.0 in c:\\users\\win10\\anaconda3\\envs\\test\\lib\\site-packages (from nbconvert->notebook>=4.4.1->widgetsnbextension~=3.5.0->ipywidgets>=7.5->evalml) (0.5.3)\n",
      "Requirement already satisfied: async-generator in c:\\users\\win10\\anaconda3\\envs\\test\\lib\\site-packages (from nbclient<0.6.0,>=0.5.0->nbconvert->notebook>=4.4.1->widgetsnbextension~=3.5.0->ipywidgets>=7.5->evalml) (1.10)\n",
      "Requirement already satisfied: nest-asyncio in c:\\users\\win10\\anaconda3\\envs\\test\\lib\\site-packages (from nbclient<0.6.0,>=0.5.0->nbconvert->notebook>=4.4.1->widgetsnbextension~=3.5.0->ipywidgets>=7.5->evalml) (1.5.1)\n",
      "Requirement already satisfied: webencodings in c:\\users\\win10\\anaconda3\\envs\\test\\lib\\site-packages (from bleach->nbconvert->notebook>=4.4.1->widgetsnbextension~=3.5.0->ipywidgets>=7.5->evalml) (0.5.1)\n",
      "Requirement already satisfied: packaging in c:\\users\\win10\\anaconda3\\envs\\test\\lib\\site-packages (from bleach->nbconvert->notebook>=4.4.1->widgetsnbextension~=3.5.0->ipywidgets>=7.5->evalml) (20.9)\n"
     ]
    }
   ],
   "source": [
    "!pip install evalml"
   ]
  },
  {
   "cell_type": "code",
   "execution_count": 2,
   "id": "d5343fc1",
   "metadata": {},
   "outputs": [
    {
     "data": {
      "text/html": [
       "<div>\n",
       "<style scoped>\n",
       "    .dataframe tbody tr th:only-of-type {\n",
       "        vertical-align: middle;\n",
       "    }\n",
       "\n",
       "    .dataframe tbody tr th {\n",
       "        vertical-align: top;\n",
       "    }\n",
       "\n",
       "    .dataframe thead th {\n",
       "        text-align: right;\n",
       "    }\n",
       "</style>\n",
       "<table border=\"1\" class=\"dataframe\">\n",
       "  <thead>\n",
       "    <tr style=\"text-align: right;\">\n",
       "      <th></th>\n",
       "      <th>Category</th>\n",
       "      <th>Message</th>\n",
       "    </tr>\n",
       "  </thead>\n",
       "  <tbody>\n",
       "    <tr>\n",
       "      <th>0</th>\n",
       "      <td>spam</td>\n",
       "      <td>Free entry in 2 a wkly comp to win FA Cup fina...</td>\n",
       "    </tr>\n",
       "    <tr>\n",
       "      <th>1</th>\n",
       "      <td>spam</td>\n",
       "      <td>FreeMsg Hey there darling it's been 3 week's n...</td>\n",
       "    </tr>\n",
       "    <tr>\n",
       "      <th>2</th>\n",
       "      <td>spam</td>\n",
       "      <td>WINNER!! As a valued network customer you have...</td>\n",
       "    </tr>\n",
       "    <tr>\n",
       "      <th>3</th>\n",
       "      <td>spam</td>\n",
       "      <td>Had your mobile 11 months or more? U R entitle...</td>\n",
       "    </tr>\n",
       "    <tr>\n",
       "      <th>4</th>\n",
       "      <td>spam</td>\n",
       "      <td>SIX chances to win CASH! From 100 to 20,000 po...</td>\n",
       "    </tr>\n",
       "  </tbody>\n",
       "</table>\n",
       "</div>"
      ],
      "text/plain": [
       "  Category                                            Message\n",
       "0     spam  Free entry in 2 a wkly comp to win FA Cup fina...\n",
       "1     spam  FreeMsg Hey there darling it's been 3 week's n...\n",
       "2     spam  WINNER!! As a valued network customer you have...\n",
       "3     spam  Had your mobile 11 months or more? U R entitle...\n",
       "4     spam  SIX chances to win CASH! From 100 to 20,000 po..."
      ]
     },
     "execution_count": 2,
     "metadata": {},
     "output_type": "execute_result"
    }
   ],
   "source": [
    "from urllib.request import urlopen\n",
    "import pandas as pd\n",
    "\n",
    "input_data = urlopen('https://featurelabs-static.s3.amazonaws.com/spam_text_messages_modified.csv')\n",
    "data = pd.read_csv(input_data)\n",
    "data.head()"
   ]
  },
  {
   "cell_type": "code",
   "execution_count": 3,
   "id": "d586d491",
   "metadata": {},
   "outputs": [],
   "source": [
    "### Independent And Dependent Features\n",
    "X=data.drop('Category',axis=1)\n",
    "y=data['Category']"
   ]
  },
  {
   "cell_type": "code",
   "execution_count": 4,
   "id": "9ac07d78",
   "metadata": {},
   "outputs": [
    {
     "data": {
      "text/html": [
       "<div>\n",
       "<style scoped>\n",
       "    .dataframe tbody tr th:only-of-type {\n",
       "        vertical-align: middle;\n",
       "    }\n",
       "\n",
       "    .dataframe tbody tr th {\n",
       "        vertical-align: top;\n",
       "    }\n",
       "\n",
       "    .dataframe thead th {\n",
       "        text-align: right;\n",
       "    }\n",
       "</style>\n",
       "<table border=\"1\" class=\"dataframe\">\n",
       "  <thead>\n",
       "    <tr style=\"text-align: right;\">\n",
       "      <th></th>\n",
       "      <th>Message</th>\n",
       "    </tr>\n",
       "  </thead>\n",
       "  <tbody>\n",
       "    <tr>\n",
       "      <th>0</th>\n",
       "      <td>Free entry in 2 a wkly comp to win FA Cup fina...</td>\n",
       "    </tr>\n",
       "    <tr>\n",
       "      <th>1</th>\n",
       "      <td>FreeMsg Hey there darling it's been 3 week's n...</td>\n",
       "    </tr>\n",
       "    <tr>\n",
       "      <th>2</th>\n",
       "      <td>WINNER!! As a valued network customer you have...</td>\n",
       "    </tr>\n",
       "    <tr>\n",
       "      <th>3</th>\n",
       "      <td>Had your mobile 11 months or more? U R entitle...</td>\n",
       "    </tr>\n",
       "    <tr>\n",
       "      <th>4</th>\n",
       "      <td>SIX chances to win CASH! From 100 to 20,000 po...</td>\n",
       "    </tr>\n",
       "  </tbody>\n",
       "</table>\n",
       "</div>"
      ],
      "text/plain": [
       "                                             Message\n",
       "0  Free entry in 2 a wkly comp to win FA Cup fina...\n",
       "1  FreeMsg Hey there darling it's been 3 week's n...\n",
       "2  WINNER!! As a valued network customer you have...\n",
       "3  Had your mobile 11 months or more? U R entitle...\n",
       "4  SIX chances to win CASH! From 100 to 20,000 po..."
      ]
     },
     "execution_count": 4,
     "metadata": {},
     "output_type": "execute_result"
    }
   ],
   "source": [
    "X.head()"
   ]
  },
  {
   "cell_type": "code",
   "execution_count": 8,
   "id": "62f23e2d",
   "metadata": {},
   "outputs": [
    {
     "data": {
      "text/plain": [
       "ham     0.750084\n",
       "spam    0.249916\n",
       "Name: Category, dtype: float64"
      ]
     },
     "execution_count": 8,
     "metadata": {},
     "output_type": "execute_result"
    }
   ],
   "source": [
    "y.value_counts(normalize=True)"
   ]
  },
  {
   "cell_type": "code",
   "execution_count": 9,
   "id": "177656ff",
   "metadata": {},
   "outputs": [],
   "source": [
    "import evalml"
   ]
  },
  {
   "cell_type": "code",
   "execution_count": 10,
   "id": "f2b2c06d",
   "metadata": {},
   "outputs": [],
   "source": [
    "#### TRain A\\nd test data split\n",
    "X_train,X_test,y_train,y_test=evalml.preprocessing.split_data(X,y,problem_type='binary')"
   ]
  },
  {
   "cell_type": "code",
   "execution_count": 12,
   "id": "fdcbb5f2",
   "metadata": {},
   "outputs": [
    {
     "data": {
      "text/plain": [
       "[<ProblemTypes.BINARY: 'binary'>,\n",
       " <ProblemTypes.MULTICLASS: 'multiclass'>,\n",
       " <ProblemTypes.REGRESSION: 'regression'>,\n",
       " <ProblemTypes.TIME_SERIES_REGRESSION: 'time series regression'>,\n",
       " <ProblemTypes.TIME_SERIES_BINARY: 'time series binary'>,\n",
       " <ProblemTypes.TIME_SERIES_MULTICLASS: 'time series multiclass'>]"
      ]
     },
     "execution_count": 12,
     "metadata": {},
     "output_type": "execute_result"
    }
   ],
   "source": [
    "evalml.problem_types.ProblemTypes.all_problem_types"
   ]
  },
  {
   "cell_type": "code",
   "execution_count": 14,
   "id": "322016fb",
   "metadata": {},
   "outputs": [
    {
     "data": {
      "text/html": [
       "<div>\n",
       "<style scoped>\n",
       "    .dataframe tbody tr th:only-of-type {\n",
       "        vertical-align: middle;\n",
       "    }\n",
       "\n",
       "    .dataframe tbody tr th {\n",
       "        vertical-align: top;\n",
       "    }\n",
       "\n",
       "    .dataframe thead tr th {\n",
       "        text-align: left;\n",
       "    }\n",
       "</style>\n",
       "<table border=\"1\" class=\"dataframe\">\n",
       "  <thead>\n",
       "    <tr>\n",
       "      <th>Data Column</th>\n",
       "      <th>Message</th>\n",
       "    </tr>\n",
       "    <tr>\n",
       "      <th>Physical Type</th>\n",
       "      <th>string</th>\n",
       "    </tr>\n",
       "    <tr>\n",
       "      <th>Logical Type</th>\n",
       "      <th>NaturalLanguage</th>\n",
       "    </tr>\n",
       "    <tr>\n",
       "      <th>Semantic Tag(s)</th>\n",
       "      <th>[]</th>\n",
       "    </tr>\n",
       "  </thead>\n",
       "  <tbody>\n",
       "    <tr>\n",
       "      <th>562</th>\n",
       "      <td>Haha I heard that, text me when you're around</td>\n",
       "    </tr>\n",
       "    <tr>\n",
       "      <th>1253</th>\n",
       "      <td>I'm thinking that chennai forgot to come for a...</td>\n",
       "    </tr>\n",
       "    <tr>\n",
       "      <th>1816</th>\n",
       "      <td>Can you tell Shola to please go to college of ...</td>\n",
       "    </tr>\n",
       "    <tr>\n",
       "      <th>2054</th>\n",
       "      <td>K k pa Had your lunch aha.</td>\n",
       "    </tr>\n",
       "    <tr>\n",
       "      <th>511</th>\n",
       "      <td>staff.science.nus.edu.sg/~phyhcmk/teaching/pc1323</td>\n",
       "    </tr>\n",
       "  </tbody>\n",
       "</table>\n",
       "</div>"
      ],
      "text/plain": [
       "Data Column                                                Message\n",
       "Physical Type                                               string\n",
       "Logical Type                                       NaturalLanguage\n",
       "Semantic Tag(s)                                                 []\n",
       "562                  Haha I heard that, text me when you're around\n",
       "1253             I'm thinking that chennai forgot to come for a...\n",
       "1816             Can you tell Shola to please go to college of ...\n",
       "2054                                    K k pa Had your lunch aha.\n",
       "511              staff.science.nus.edu.sg/~phyhcmk/teaching/pc1323"
      ]
     },
     "execution_count": 14,
     "metadata": {},
     "output_type": "execute_result"
    }
   ],
   "source": [
    "X_train.head()"
   ]
  },
  {
   "cell_type": "code",
   "execution_count": 15,
   "id": "83516bd9",
   "metadata": {},
   "outputs": [],
   "source": [
    "from evalml import AutoMLSearch"
   ]
  },
  {
   "cell_type": "code",
   "execution_count": 19,
   "id": "f6a32174",
   "metadata": {},
   "outputs": [
    {
     "name": "stdout",
     "output_type": "stream",
     "text": [
      "Generating pipelines to search over...\n"
     ]
    }
   ],
   "source": [
    "automl=AutoMLSearch(X_train=X_train,y_train=y_train,problem_type='binary',max_batches=1,optimize_thresholds=True)"
   ]
  },
  {
   "cell_type": "code",
   "execution_count": 20,
   "id": "bf7f8259",
   "metadata": {},
   "outputs": [
    {
     "name": "stdout",
     "output_type": "stream",
     "text": [
      "*****************************\n",
      "* Beginning pipeline search *\n",
      "*****************************\n",
      "\n",
      "Optimizing for Log Loss Binary. \n",
      "Lower score is better.\n",
      "\n",
      "Using SequentialEngine to train and score pipelines.\n",
      "Searching up to 1 batches for a total of 9 pipelines. \n",
      "Allowed model families: lightgbm, catboost, decision_tree, random_forest, linear_model, extra_trees, xgboost\n",
      "\n"
     ]
    },
    {
     "data": {
      "application/vnd.jupyter.widget-view+json": {
       "model_id": "a59e0fa5afe046b186d1c00f8ecb2d8f",
       "version_major": 2,
       "version_minor": 0
      },
      "text/plain": [
       "FigureWidget({\n",
       "    'data': [{'mode': 'lines+markers',\n",
       "              'name': 'Best Score',\n",
       "              'type'…"
      ]
     },
     "metadata": {},
     "output_type": "display_data"
    },
    {
     "name": "stdout",
     "output_type": "stream",
     "text": [
      "Batch 1: (1/9) Mode Baseline Binary Classification P... Elapsed:00:00\n",
      "\tStarting cross validation\n",
      "\tFinished cross validation - mean Log Loss Binary: 8.638\n",
      "Batch 1: (2/9) Decision Tree Classifier w/ Text Feat... Elapsed:00:00\n",
      "\tStarting cross validation\n",
      "\tFinished cross validation - mean Log Loss Binary: 0.802\n",
      "High coefficient of variation (cv >= 0.2) within cross validation scores. Decision Tree Classifier w/ Text Featurization Component may not perform as estimated on unseen data.\n",
      "Batch 1: (3/9) LightGBM Classifier w/ Text Featuriza... Elapsed:00:13\n",
      "\tStarting cross validation\n",
      "\tFinished cross validation - mean Log Loss Binary: 0.215\n",
      "High coefficient of variation (cv >= 0.2) within cross validation scores. LightGBM Classifier w/ Text Featurization Component may not perform as estimated on unseen data.\n",
      "Batch 1: (4/9) Extra Trees Classifier w/ Text Featur... Elapsed:00:26\n",
      "\tStarting cross validation\n",
      "\tFinished cross validation - mean Log Loss Binary: 0.252\n",
      "High coefficient of variation (cv >= 0.2) within cross validation scores. Extra Trees Classifier w/ Text Featurization Component may not perform as estimated on unseen data.\n",
      "Batch 1: (5/9) Elastic Net Classifier w/ Text Featur... Elapsed:00:39\n",
      "\tStarting cross validation\n",
      "\tFinished cross validation - mean Log Loss Binary: 0.543\n",
      "Batch 1: (6/9) CatBoost Classifier w/ Text Featuriza... Elapsed:00:51\n",
      "\tStarting cross validation\n",
      "\tFinished cross validation - mean Log Loss Binary: 0.526\n",
      "Batch 1: (7/9) XGBoost Classifier w/ Text Featurizat... Elapsed:01:03\n",
      "\tStarting cross validation\n",
      "\tFinished cross validation - mean Log Loss Binary: 0.179\n",
      "High coefficient of variation (cv >= 0.2) within cross validation scores. XGBoost Classifier w/ Text Featurization Component may not perform as estimated on unseen data.\n",
      "Batch 1: (8/9) Random Forest Classifier w/ Text Feat... Elapsed:01:16\n",
      "\tStarting cross validation\n",
      "\tFinished cross validation - mean Log Loss Binary: 0.155\n",
      "High coefficient of variation (cv >= 0.2) within cross validation scores. Random Forest Classifier w/ Text Featurization Component may not perform as estimated on unseen data.\n",
      "Batch 1: (9/9) Logistic Regression Classifier w/ Tex... Elapsed:01:29\n",
      "\tStarting cross validation\n",
      "\tFinished cross validation - mean Log Loss Binary: 0.214\n",
      "High coefficient of variation (cv >= 0.2) within cross validation scores. Logistic Regression Classifier w/ Text Featurization Component + Standard Scaler may not perform as estimated on unseen data.\n",
      "\n",
      "Search finished after 01:43            \n",
      "Best pipeline: Random Forest Classifier w/ Text Featurization Component\n",
      "Best pipeline Log Loss Binary: 0.154849\n"
     ]
    }
   ],
   "source": [
    "automl.search()"
   ]
  },
  {
   "cell_type": "code",
   "execution_count": 21,
   "id": "2484cf11",
   "metadata": {},
   "outputs": [
    {
     "data": {
      "text/html": [
       "<div>\n",
       "<style scoped>\n",
       "    .dataframe tbody tr th:only-of-type {\n",
       "        vertical-align: middle;\n",
       "    }\n",
       "\n",
       "    .dataframe tbody tr th {\n",
       "        vertical-align: top;\n",
       "    }\n",
       "\n",
       "    .dataframe thead th {\n",
       "        text-align: right;\n",
       "    }\n",
       "</style>\n",
       "<table border=\"1\" class=\"dataframe\">\n",
       "  <thead>\n",
       "    <tr style=\"text-align: right;\">\n",
       "      <th></th>\n",
       "      <th>id</th>\n",
       "      <th>pipeline_name</th>\n",
       "      <th>score</th>\n",
       "      <th>validation_score</th>\n",
       "      <th>percent_better_than_baseline</th>\n",
       "      <th>high_variance_cv</th>\n",
       "      <th>parameters</th>\n",
       "    </tr>\n",
       "  </thead>\n",
       "  <tbody>\n",
       "    <tr>\n",
       "      <th>0</th>\n",
       "      <td>7</td>\n",
       "      <td>Random Forest Classifier w/ Text Featurization...</td>\n",
       "      <td>0.154849</td>\n",
       "      <td>0.110302</td>\n",
       "      <td>98.207418</td>\n",
       "      <td>True</td>\n",
       "      <td>{'Random Forest Classifier': {'n_estimators': ...</td>\n",
       "    </tr>\n",
       "    <tr>\n",
       "      <th>1</th>\n",
       "      <td>6</td>\n",
       "      <td>XGBoost Classifier w/ Text Featurization Compo...</td>\n",
       "      <td>0.178639</td>\n",
       "      <td>0.113254</td>\n",
       "      <td>97.932010</td>\n",
       "      <td>True</td>\n",
       "      <td>{'XGBoost Classifier': {'eta': 0.1, 'max_depth...</td>\n",
       "    </tr>\n",
       "    <tr>\n",
       "      <th>2</th>\n",
       "      <td>8</td>\n",
       "      <td>Logistic Regression Classifier w/ Text Featuri...</td>\n",
       "      <td>0.214011</td>\n",
       "      <td>0.165624</td>\n",
       "      <td>97.522538</td>\n",
       "      <td>True</td>\n",
       "      <td>{'Logistic Regression Classifier': {'penalty':...</td>\n",
       "    </tr>\n",
       "    <tr>\n",
       "      <th>3</th>\n",
       "      <td>2</td>\n",
       "      <td>LightGBM Classifier w/ Text Featurization Comp...</td>\n",
       "      <td>0.214580</td>\n",
       "      <td>0.136260</td>\n",
       "      <td>97.515944</td>\n",
       "      <td>True</td>\n",
       "      <td>{'LightGBM Classifier': {'boosting_type': 'gbd...</td>\n",
       "    </tr>\n",
       "    <tr>\n",
       "      <th>4</th>\n",
       "      <td>3</td>\n",
       "      <td>Extra Trees Classifier w/ Text Featurization C...</td>\n",
       "      <td>0.252206</td>\n",
       "      <td>0.216198</td>\n",
       "      <td>97.080377</td>\n",
       "      <td>True</td>\n",
       "      <td>{'Extra Trees Classifier': {'n_estimators': 10...</td>\n",
       "    </tr>\n",
       "    <tr>\n",
       "      <th>5</th>\n",
       "      <td>5</td>\n",
       "      <td>CatBoost Classifier w/ Text Featurization Comp...</td>\n",
       "      <td>0.526403</td>\n",
       "      <td>0.512717</td>\n",
       "      <td>93.906174</td>\n",
       "      <td>False</td>\n",
       "      <td>{'CatBoost Classifier': {'n_estimators': 10, '...</td>\n",
       "    </tr>\n",
       "    <tr>\n",
       "      <th>6</th>\n",
       "      <td>4</td>\n",
       "      <td>Elastic Net Classifier w/ Text Featurization C...</td>\n",
       "      <td>0.542803</td>\n",
       "      <td>0.529152</td>\n",
       "      <td>93.716325</td>\n",
       "      <td>False</td>\n",
       "      <td>{'Elastic Net Classifier': {'alpha': 0.5, 'l1_...</td>\n",
       "    </tr>\n",
       "    <tr>\n",
       "      <th>7</th>\n",
       "      <td>1</td>\n",
       "      <td>Decision Tree Classifier w/ Text Featurization...</td>\n",
       "      <td>0.801766</td>\n",
       "      <td>0.555179</td>\n",
       "      <td>90.718481</td>\n",
       "      <td>True</td>\n",
       "      <td>{'Decision Tree Classifier': {'criterion': 'gi...</td>\n",
       "    </tr>\n",
       "    <tr>\n",
       "      <th>8</th>\n",
       "      <td>0</td>\n",
       "      <td>Mode Baseline Binary Classification Pipeline</td>\n",
       "      <td>8.638305</td>\n",
       "      <td>8.623860</td>\n",
       "      <td>0.000000</td>\n",
       "      <td>False</td>\n",
       "      <td>{'Baseline Classifier': {'strategy': 'mode'}}</td>\n",
       "    </tr>\n",
       "  </tbody>\n",
       "</table>\n",
       "</div>"
      ],
      "text/plain": [
       "   id                                      pipeline_name     score  \\\n",
       "0   7  Random Forest Classifier w/ Text Featurization...  0.154849   \n",
       "1   6  XGBoost Classifier w/ Text Featurization Compo...  0.178639   \n",
       "2   8  Logistic Regression Classifier w/ Text Featuri...  0.214011   \n",
       "3   2  LightGBM Classifier w/ Text Featurization Comp...  0.214580   \n",
       "4   3  Extra Trees Classifier w/ Text Featurization C...  0.252206   \n",
       "5   5  CatBoost Classifier w/ Text Featurization Comp...  0.526403   \n",
       "6   4  Elastic Net Classifier w/ Text Featurization C...  0.542803   \n",
       "7   1  Decision Tree Classifier w/ Text Featurization...  0.801766   \n",
       "8   0       Mode Baseline Binary Classification Pipeline  8.638305   \n",
       "\n",
       "   validation_score  percent_better_than_baseline  high_variance_cv  \\\n",
       "0          0.110302                     98.207418              True   \n",
       "1          0.113254                     97.932010              True   \n",
       "2          0.165624                     97.522538              True   \n",
       "3          0.136260                     97.515944              True   \n",
       "4          0.216198                     97.080377              True   \n",
       "5          0.512717                     93.906174             False   \n",
       "6          0.529152                     93.716325             False   \n",
       "7          0.555179                     90.718481              True   \n",
       "8          8.623860                      0.000000             False   \n",
       "\n",
       "                                          parameters  \n",
       "0  {'Random Forest Classifier': {'n_estimators': ...  \n",
       "1  {'XGBoost Classifier': {'eta': 0.1, 'max_depth...  \n",
       "2  {'Logistic Regression Classifier': {'penalty':...  \n",
       "3  {'LightGBM Classifier': {'boosting_type': 'gbd...  \n",
       "4  {'Extra Trees Classifier': {'n_estimators': 10...  \n",
       "5  {'CatBoost Classifier': {'n_estimators': 10, '...  \n",
       "6  {'Elastic Net Classifier': {'alpha': 0.5, 'l1_...  \n",
       "7  {'Decision Tree Classifier': {'criterion': 'gi...  \n",
       "8      {'Baseline Classifier': {'strategy': 'mode'}}  "
      ]
     },
     "execution_count": 21,
     "metadata": {},
     "output_type": "execute_result"
    }
   ],
   "source": [
    "automl.rankings"
   ]
  },
  {
   "cell_type": "code",
   "execution_count": 22,
   "id": "15c8818a",
   "metadata": {},
   "outputs": [
    {
     "data": {
      "text/plain": [
       "GeneratedPipeline(parameters={'Random Forest Classifier':{'n_estimators': 100, 'max_depth': 6, 'n_jobs': -1},})"
      ]
     },
     "execution_count": 22,
     "metadata": {},
     "output_type": "execute_result"
    }
   ],
   "source": [
    "automl.best_pipeline"
   ]
  },
  {
   "cell_type": "code",
   "execution_count": 23,
   "id": "1806b9b8",
   "metadata": {},
   "outputs": [],
   "source": [
    "best_pipeline = automl.best_pipeline"
   ]
  },
  {
   "cell_type": "code",
   "execution_count": 24,
   "id": "d5bc8ec7",
   "metadata": {},
   "outputs": [
    {
     "name": "stdout",
     "output_type": "stream",
     "text": [
      "************************************************************\n",
      "* Random Forest Classifier w/ Text Featurization Component *\n",
      "************************************************************\n",
      "\n",
      "Problem Type: binary\n",
      "Model Family: Random Forest\n",
      "\n",
      "Pipeline Steps\n",
      "==============\n",
      "1. Text Featurization Component\n",
      "2. Random Forest Classifier\n",
      "\t * n_estimators : 100\n",
      "\t * max_depth : 6\n",
      "\t * n_jobs : -1\n",
      "\n",
      "Training\n",
      "========\n",
      "Training for binary problems.\n",
      "Total training time (including CV): 13.2 seconds\n",
      "\n",
      "Cross Validation\n",
      "----------------\n",
      "             Log Loss Binary  MCC Binary   AUC  Precision    F1  Balanced Accuracy Binary  Accuracy Binary  Sensitivity at Low Alert Rates # Training # Validation\n",
      "0                      0.110       0.895 0.987      0.938 0.921                     0.942            0.961                           0.246   1594.000      797.000\n",
      "1                      0.144       0.854 0.980      0.919 0.888                     0.917            0.946                           0.246   1594.000      797.000\n",
      "2                      0.210       0.783 0.962      0.839 0.837                     0.891            0.918                           0.266   1594.000      797.000\n",
      "mean                   0.155       0.844 0.977      0.899 0.882                     0.917            0.942                           0.252          -            -\n",
      "std                    0.051       0.057 0.013      0.052 0.042                     0.026            0.022                           0.011          -            -\n",
      "coef of var            0.326       0.067 0.013      0.058 0.048                     0.028            0.023                           0.045          -            -\n"
     ]
    }
   ],
   "source": [
    "automl.describe_pipeline(automl.rankings.iloc[0][\"id\"])"
   ]
  },
  {
   "cell_type": "code",
   "execution_count": null,
   "id": "524be0ad",
   "metadata": {},
   "outputs": [],
   "source": [
    "### Evaluate on the test data"
   ]
  },
  {
   "cell_type": "code",
   "execution_count": 27,
   "id": "dbd8d23c",
   "metadata": {},
   "outputs": [
    {
     "name": "stdout",
     "output_type": "stream",
     "text": [
      "Accuracy Binary: 0.9732441471571907\n"
     ]
    }
   ],
   "source": [
    "scores = best_pipeline.score(X_test, y_test,  objectives=evalml.objectives.get_core_objectives('binary'))\n",
    "print(f'Accuracy Binary: {scores[\"Accuracy Binary\"]}')"
   ]
  },
  {
   "cell_type": "code",
   "execution_count": null,
   "id": "b20c9d68",
   "metadata": {},
   "outputs": [],
   "source": []
  },
  {
   "cell_type": "code",
   "execution_count": null,
   "id": "4068564e",
   "metadata": {},
   "outputs": [],
   "source": []
  },
  {
   "cell_type": "code",
   "execution_count": null,
   "id": "6c7d3fbb",
   "metadata": {},
   "outputs": [],
   "source": []
  }
 ],
 "metadata": {
  "kernelspec": {
   "display_name": "Python 3",
   "language": "python",
   "name": "python3"
  },
  "language_info": {
   "codemirror_mode": {
    "name": "ipython",
    "version": 3
   },
   "file_extension": ".py",
   "mimetype": "text/x-python",
   "name": "python",
   "nbconvert_exporter": "python",
   "pygments_lexer": "ipython3",
   "version": "3.7.10"
  }
 },
 "nbformat": 4,
 "nbformat_minor": 5
}
